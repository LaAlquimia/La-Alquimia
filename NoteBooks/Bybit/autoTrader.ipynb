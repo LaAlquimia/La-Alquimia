{
 "cells": [
  {
   "cell_type": "code",
   "execution_count": 6,
   "metadata": {},
   "outputs": [],
   "source": [
    "from pybit.unified_trading import HTTP\n",
    "from apikey import api_key, api_secret\n"
   ]
  },
  {
   "cell_type": "code",
   "execution_count": 10,
   "metadata": {},
   "outputs": [],
   "source": [
    "client = HTTP(api_key= api_key, \n",
    "api_secret = api_secret, testnet=False,)"
   ]
  },
  {
   "cell_type": "code",
   "execution_count": 37,
   "metadata": {},
   "outputs": [
    {
     "data": {
      "text/plain": [
       "['1000PEPEUSDT', 'UXLINKUSDT']"
      ]
     },
     "execution_count": 37,
     "metadata": {},
     "output_type": "execute_result"
    }
   ],
   "source": [
    "orders = client.get_open_orders(settleCoin = 'USDT',   category = 'linear')\n",
    "orders_symbols = [x['symbol'] for x in orders['result']['list']]\n",
    "orders_symbols"
   ]
  },
  {
   "cell_type": "code",
   "execution_count": 29,
   "metadata": {},
   "outputs": [
    {
     "data": {
      "text/plain": [
       "True"
      ]
     },
     "execution_count": 29,
     "metadata": {},
     "output_type": "execute_result"
    }
   ],
   "source": [
    "has_orders('CATIUSDT')"
   ]
  },
  {
   "cell_type": "code",
   "execution_count": 28,
   "metadata": {},
   "outputs": [],
   "source": [
    "def has_orders(symbol):\n",
    "    orders = client.get_open_orders(symbol = symbol,  category = 'linear')\n",
    "    if len(orders['result']['list']) > 0:\n",
    "        return True\n",
    "    else:\n",
    "        return False\n"
   ]
  },
  {
   "cell_type": "code",
   "execution_count": null,
   "metadata": {},
   "outputs": [],
   "source": [
    "def cancel_order(order_id):\n",
    "    if not has_orders(order_id):\n",
    "        return\n",
    "    client.cancel_order(order_id = order_id, category = 'linear')"
   ]
  }
 ],
 "metadata": {
  "kernelspec": {
   "display_name": "tgSignals",
   "language": "python",
   "name": "python3"
  },
  "language_info": {
   "codemirror_mode": {
    "name": "ipython",
    "version": 3
   },
   "file_extension": ".py",
   "mimetype": "text/x-python",
   "name": "python",
   "nbconvert_exporter": "python",
   "pygments_lexer": "ipython3",
   "version": "3.10.12"
  }
 },
 "nbformat": 4,
 "nbformat_minor": 2
}
