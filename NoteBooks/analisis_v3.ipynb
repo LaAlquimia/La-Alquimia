{
  "cells": [
    {
      "cell_type": "code",
      "source": [
        "!pip install python-binance \n",
        "!pip install pandas \n",
        "!pip install matplotlib "
      ],
      "metadata": {
        "id": "O6UTv-Fls178",
        "outputId": "1edeb867-1271-4800-9ad4-d8f9495e76fe",
        "colab": {
          "base_uri": "https://localhost:8080/"
        }
      },
      "id": "O6UTv-Fls178",
      "execution_count": null,
      "outputs": [
        {
          "output_type": "stream",
          "name": "stdout",
          "text": [
            "Looking in indexes: https://pypi.org/simple, https://us-python.pkg.dev/colab-wheels/public/simple/\n",
            "Collecting python-binance\n",
            "  Downloading python_binance-1.0.16-py2.py3-none-any.whl (65 kB)\n",
            "\u001b[K     |████████████████████████████████| 65 kB 2.4 MB/s \n",
            "\u001b[?25hRequirement already satisfied: ujson in /usr/local/lib/python3.7/dist-packages (from python-binance) (5.4.0)\n",
            "Requirement already satisfied: requests in /usr/local/lib/python3.7/dist-packages (from python-binance) (2.23.0)\n",
            "Requirement already satisfied: six in /usr/local/lib/python3.7/dist-packages (from python-binance) (1.15.0)\n",
            "Requirement already satisfied: aiohttp in /usr/local/lib/python3.7/dist-packages (from python-binance) (3.8.1)\n",
            "Collecting dateparser\n",
            "  Downloading dateparser-1.1.1-py2.py3-none-any.whl (288 kB)\n",
            "\u001b[K     |████████████████████████████████| 288 kB 10.4 MB/s \n",
            "\u001b[?25hCollecting websockets\n",
            "  Downloading websockets-10.3-cp37-cp37m-manylinux_2_5_x86_64.manylinux1_x86_64.manylinux_2_12_x86_64.manylinux2010_x86_64.whl (112 kB)\n",
            "\u001b[K     |████████████████████████████████| 112 kB 50.1 MB/s \n",
            "\u001b[?25hRequirement already satisfied: aiosignal>=1.1.2 in /usr/local/lib/python3.7/dist-packages (from aiohttp->python-binance) (1.2.0)\n",
            "Requirement already satisfied: frozenlist>=1.1.1 in /usr/local/lib/python3.7/dist-packages (from aiohttp->python-binance) (1.3.1)\n",
            "Requirement already satisfied: async-timeout<5.0,>=4.0.0a3 in /usr/local/lib/python3.7/dist-packages (from aiohttp->python-binance) (4.0.2)\n",
            "Requirement already satisfied: asynctest==0.13.0 in /usr/local/lib/python3.7/dist-packages (from aiohttp->python-binance) (0.13.0)\n",
            "Requirement already satisfied: yarl<2.0,>=1.0 in /usr/local/lib/python3.7/dist-packages (from aiohttp->python-binance) (1.8.1)\n",
            "Requirement already satisfied: attrs>=17.3.0 in /usr/local/lib/python3.7/dist-packages (from aiohttp->python-binance) (22.1.0)\n",
            "Requirement already satisfied: charset-normalizer<3.0,>=2.0 in /usr/local/lib/python3.7/dist-packages (from aiohttp->python-binance) (2.1.1)\n",
            "Requirement already satisfied: typing-extensions>=3.7.4 in /usr/local/lib/python3.7/dist-packages (from aiohttp->python-binance) (4.1.1)\n",
            "Requirement already satisfied: multidict<7.0,>=4.5 in /usr/local/lib/python3.7/dist-packages (from aiohttp->python-binance) (6.0.2)\n",
            "Requirement already satisfied: idna>=2.0 in /usr/local/lib/python3.7/dist-packages (from yarl<2.0,>=1.0->aiohttp->python-binance) (2.10)\n",
            "Requirement already satisfied: tzlocal in /usr/local/lib/python3.7/dist-packages (from dateparser->python-binance) (1.5.1)\n",
            "Collecting regex!=2019.02.19,!=2021.8.27,<2022.3.15\n",
            "  Downloading regex-2022.3.2-cp37-cp37m-manylinux_2_17_x86_64.manylinux2014_x86_64.whl (749 kB)\n",
            "\u001b[K     |████████████████████████████████| 749 kB 47.7 MB/s \n",
            "\u001b[?25hRequirement already satisfied: pytz in /usr/local/lib/python3.7/dist-packages (from dateparser->python-binance) (2022.2.1)\n",
            "Requirement already satisfied: python-dateutil in /usr/local/lib/python3.7/dist-packages (from dateparser->python-binance) (2.8.2)\n",
            "Requirement already satisfied: chardet<4,>=3.0.2 in /usr/local/lib/python3.7/dist-packages (from requests->python-binance) (3.0.4)\n",
            "Requirement already satisfied: certifi>=2017.4.17 in /usr/local/lib/python3.7/dist-packages (from requests->python-binance) (2022.6.15)\n",
            "Requirement already satisfied: urllib3!=1.25.0,!=1.25.1,<1.26,>=1.21.1 in /usr/local/lib/python3.7/dist-packages (from requests->python-binance) (1.24.3)\n",
            "Installing collected packages: regex, websockets, dateparser, python-binance\n",
            "  Attempting uninstall: regex\n",
            "    Found existing installation: regex 2022.6.2\n",
            "    Uninstalling regex-2022.6.2:\n",
            "      Successfully uninstalled regex-2022.6.2\n",
            "Successfully installed dateparser-1.1.1 python-binance-1.0.16 regex-2022.3.2 websockets-10.3\n",
            "Looking in indexes: https://pypi.org/simple, https://us-python.pkg.dev/colab-wheels/public/simple/\n",
            "Requirement already satisfied: pandas in /usr/local/lib/python3.7/dist-packages (1.3.5)\n",
            "Requirement already satisfied: pytz>=2017.3 in /usr/local/lib/python3.7/dist-packages (from pandas) (2022.2.1)\n",
            "Requirement already satisfied: numpy>=1.17.3 in /usr/local/lib/python3.7/dist-packages (from pandas) (1.21.6)\n",
            "Requirement already satisfied: python-dateutil>=2.7.3 in /usr/local/lib/python3.7/dist-packages (from pandas) (2.8.2)\n",
            "Requirement already satisfied: six>=1.5 in /usr/local/lib/python3.7/dist-packages (from python-dateutil>=2.7.3->pandas) (1.15.0)\n",
            "Looking in indexes: https://pypi.org/simple, https://us-python.pkg.dev/colab-wheels/public/simple/\n",
            "Requirement already satisfied: matplotlib in /usr/local/lib/python3.7/dist-packages (3.2.2)\n",
            "Requirement already satisfied: python-dateutil>=2.1 in /usr/local/lib/python3.7/dist-packages (from matplotlib) (2.8.2)\n",
            "Requirement already satisfied: numpy>=1.11 in /usr/local/lib/python3.7/dist-packages (from matplotlib) (1.21.6)\n",
            "Requirement already satisfied: cycler>=0.10 in /usr/local/lib/python3.7/dist-packages (from matplotlib) (0.11.0)\n",
            "Requirement already satisfied: pyparsing!=2.0.4,!=2.1.2,!=2.1.6,>=2.0.1 in /usr/local/lib/python3.7/dist-packages (from matplotlib) (3.0.9)\n",
            "Requirement already satisfied: kiwisolver>=1.0.1 in /usr/local/lib/python3.7/dist-packages (from matplotlib) (1.4.4)\n",
            "Requirement already satisfied: typing-extensions in /usr/local/lib/python3.7/dist-packages (from kiwisolver>=1.0.1->matplotlib) (4.1.1)\n",
            "Requirement already satisfied: six>=1.5 in /usr/local/lib/python3.7/dist-packages (from python-dateutil>=2.1->matplotlib) (1.15.0)\n"
          ]
        }
      ]
    },
    {
      "cell_type": "code",
      "execution_count": null,
      "id": "7a26b92d",
      "metadata": {
        "scrolled": true,
        "id": "7a26b92d"
      },
      "outputs": [],
      "source": [
        "from binance.client import Client\n",
        "import pandas as pd\n",
        "import matplotlib.pyplot as plt\n",
        "\n",
        "plt.style.use('dark_background')\n",
        "import numpy as np\n",
        "#%matplotlib inline\n",
        "client = Client()"
      ]
    },
    {
      "cell_type": "code",
      "execution_count": null,
      "id": "62276e09",
      "metadata": {
        "id": "62276e09"
      },
      "outputs": [],
      "source": [
        "#HISTORICO \n",
        "candles = client.get_klines(symbol='BTCUSDT', interval=Client.KLINE_INTERVAL_1MINUTE, limit = 100)"
      ]
    },
    {
      "cell_type": "code",
      "execution_count": null,
      "id": "bd057b46",
      "metadata": {
        "id": "bd057b46",
        "outputId": "dfb02046-abaa-499d-a671-0409461c13e6",
        "colab": {
          "base_uri": "https://localhost:8080/"
        }
      },
      "outputs": [
        {
          "output_type": "execute_result",
          "data": {
            "text/plain": [
              "100"
            ]
          },
          "metadata": {},
          "execution_count": 4
        }
      ],
      "source": [
        "len(candles)"
      ]
    },
    {
      "cell_type": "code",
      "execution_count": null,
      "id": "3efcbc46",
      "metadata": {
        "id": "3efcbc46"
      },
      "outputs": [],
      "source": [
        "\n",
        "price_df = pd.DataFrame(candles, columns=['dateTime',\n",
        "                                          'open',\n",
        "                                          'high', 'low',\n",
        "                                          'close', 'volume',\n",
        "                                          'closeTime', \n",
        "                                          'quoteAssetVolume',\n",
        "                                          'numberOfTrades', \n",
        "                                          'takerBuyBaseVol', \n",
        "                                          'takerBuyQuoteVol', 'ignore'])\n",
        "price_df.dateTime = pd.to_datetime(price_df.dateTime, unit='ms')\n",
        "price_df.set_index('dateTime')\n",
        "price_df.closeTime = pd.to_datetime(price_df.closeTime, unit='ms')\n",
        "price_df.close = pd.to_numeric(price_df.close)\n",
        "price_df.volume = pd.to_numeric(price_df.volume) \n",
        "\n",
        "\n"
      ]
    },
    {
      "cell_type": "code",
      "execution_count": null,
      "id": "0f67285b",
      "metadata": {
        "id": "0f67285b",
        "outputId": "a7fae7f5-444e-43d4-ac84-1361f53c05c0",
        "colab": {
          "base_uri": "https://localhost:8080/"
        }
      },
      "outputs": [
        {
          "output_type": "execute_result",
          "data": {
            "text/plain": [
              "0     21457.010000\n",
              "1     21455.347400\n",
              "2     21453.756702\n",
              "3     21450.755559\n",
              "4     21450.077295\n",
              "          ...     \n",
              "95    21532.693732\n",
              "96    21531.614446\n",
              "97    21530.418397\n",
              "98    21529.660889\n",
              "99    21528.630223\n",
              "Name: ma50, Length: 100, dtype: float64"
            ]
          },
          "metadata": {},
          "execution_count": 6
        }
      ],
      "source": [
        "#price_df.set_index('closeTime', inplace=True)\n",
        "#closeprice = price_df['close'].to_numpy()\n",
        "\n",
        "price_df['ma50'] = price_df.close.ewm(span=50).mean()\n",
        "\n",
        "price_df['ma21'] = price_df.close.ewm(span=21).mean()\n",
        "\n",
        "price_df.ma50 = pd.to_numeric(price_df.ma50)\n",
        "\n",
        "price_df.ma21 = pd.to_numeric(price_df.ma21)\n",
        "\n",
        "price_df.ma50"
      ]
    },
    {
      "cell_type": "code",
      "execution_count": null,
      "id": "1ae31224",
      "metadata": {
        "scrolled": true,
        "id": "1ae31224",
        "outputId": "ea6832ab-077f-42f9-aeef-e56cb4a6cc1d",
        "colab": {
          "base_uri": "https://localhost:8080/"
        }
      },
      "outputs": [
        {
          "output_type": "execute_result",
          "data": {
            "text/plain": [
              "0           NaN\n",
              "1           NaN\n",
              "2           NaN\n",
              "3           NaN\n",
              "4           NaN\n",
              "        ...    \n",
              "95    46.910750\n",
              "96    44.836565\n",
              "97    43.717791\n",
              "98    47.161480\n",
              "99    44.854603\n",
              "Name: close, Length: 100, dtype: float64"
            ]
          },
          "metadata": {},
          "execution_count": 7
        }
      ],
      "source": [
        "#RSI\n",
        "\n",
        "rsi_period = 14\n",
        "\n",
        "chg = price_df['close'].diff(1)\n",
        "\n",
        "gain = chg.mask(chg<0,0)\n",
        "price_df['gain'] = gain\n",
        "\n",
        "\n",
        "loss = chg.mask(chg>0,0)\n",
        "price_df['loss'] = loss\n",
        "\n",
        "avg_gain = gain.ewm(com = rsi_period-1,min_periods=rsi_period).mean()\n",
        "avg_loss = loss.ewm(com = rsi_period-1,min_periods=rsi_period).mean()\n",
        "\n",
        "price_df['avg_gain'] = avg_gain\n",
        "price_df['avg_loss'] = avg_loss\n",
        "\n",
        "rs = abs(avg_gain/avg_loss)\n",
        "rsi = 100 - (100 /(1 + rs) )\n",
        "rsi\n",
        "\n"
      ]
    },
    {
      "cell_type": "code",
      "source": [
        "## Para el Order Book\n",
        "def difPct(bid, ask , pr):\n",
        "  return ((ask - bid )/(pr/100))\n",
        "\n",
        "client = Client()\n",
        "\n",
        "order_book = client.futures_order_book(symbol = 'BTCUSDT', limit = 1000)\n",
        "price_now = client.futures_mark_price(symbol = \"BTCUSDT\")\n",
        "\n",
        "order_book = pd.DataFrame(order_book)\n",
        "bids = pd.DataFrame(order_book['bids'])\n",
        "asks = pd.DataFrame(order_book['asks'])\n",
        "#float(asks.head(1)['asks'][0][0])\n",
        "ask_min = float(asks['asks'].iloc[0][0])\n",
        "bid_max = float(bids['bids'].iloc[0][0])\n",
        "price = float(price_now['markPrice'])\n",
        "dif_pct = difPct(bid_max, ask_min, price)\n",
        "print( f' price {price} \\n Diferencia : {ask_min- bid_max} \\n Diferencia PCT: {dif_pct} ' ) \n",
        "\n",
        "prices_b = [float(x[0]) for x in order_book['bids']]\n",
        "prices_a = [float(x[0]) for x in order_book['asks']]\n",
        "qtts_b = [float(x[1]) for x in order_book['bids']]\n",
        "qtts_a = [float(x[1]) for x in order_book['asks']]\n",
        "\n",
        "p_b = pd.to_numeric(prices_b)\n",
        "p_a = pd.to_numeric(prices_a)\n",
        "q_b = pd.to_numeric(qtts_b)\n",
        "q_a = pd.to_numeric(qtts_a)\n",
        "b_M = q_b.max()\n",
        "a_M = q_a.max()\n",
        "bys = []\n",
        "sls = []\n",
        "for i in range (0, len(prices_b)) :\n",
        "  if qtts_b[i] > b_M/4 :\n",
        "    bys.append(prices_b[i])\n",
        "\n",
        "for i in range (0, len(prices_a)) :\n",
        "  if qtts_a[i] > a_M/5 :\n",
        "    sls.append(prices_a[i])\n",
        "\n",
        "print(f' compras:{bys} \\n ventas: {sls}')\n"
      ],
      "metadata": {
        "id": "SEm8xc-_tgQY",
        "outputId": "f3fa87db-3bbc-4050-f75b-b5a335e07188",
        "colab": {
          "base_uri": "https://localhost:8080/"
        }
      },
      "id": "SEm8xc-_tgQY",
      "execution_count": null,
      "outputs": [
        {
          "output_type": "stream",
          "name": "stdout",
          "text": [
            " price 21493.1 \n",
            " Diferencia : 0.09999999999854481 \n",
            " Diferencia PCT: 0.0004652655968592005 \n",
            " compras:[21457.1, 21450.3, 21450.1, 21450.0, 21448.5, 21441.2, 21439.0, 21437.6, 21436.8, 21417.5, 21411.0, 21402.5, 21400.0, 21396.2, 21386.8] \n",
            " ventas: [21521.6, 21521.7, 21522.6, 21523.2, 21523.3, 21532.5, 21537.9, 21542.4, 21542.9, 21552.3, 21558.6, 21571.8, 21573.4, 21573.5, 21578.9, 21590.0, 21594.0, 21599.2, 21600.0, 21602.8, 21604.7, 21611.7]\n"
          ]
        }
      ]
    },
    {
      "cell_type": "code",
      "execution_count": null,
      "id": "81fca029",
      "metadata": {
        "scrolled": false,
        "id": "81fca029",
        "outputId": "b0fbddde-0916-4c82-d28f-5f8b71510bdf",
        "colab": {
          "base_uri": "https://localhost:8080/",
          "height": 609
        }
      },
      "outputs": [
        {
          "output_type": "execute_result",
          "data": {
            "text/plain": [
              "<BarContainer object of 50 artists>"
            ]
          },
          "metadata": {},
          "execution_count": 94
        },
        {
          "output_type": "display_data",
          "data": {
            "text/plain": [
              "<Figure size 720x720 with 3 Axes>"
            ],
            "image/png": "[encoded data removed]"
          },
          "metadata": {}
        }
      ],
      "source": [
        "fig, ax = plt.subplots(3, figsize = (10,10))\n",
        "ax[0].plot(price_df.closeTime.tail(50),price_df.close.tail(50))\n",
        "ax[0].plot(price_df.closeTime.tail(50),price_df.ma50.tail(50))\n",
        "ax[0].plot(price_df.closeTime.tail(50),price_df.ma21.tail(50))\n",
        "ax[0].text(price_df['closeTime'].tail(1), float(price_df['close'].mean())*0.995, f\"Last:\\n{int(price_df['close'].tail(1))}\", ha=\"center\", va=\"center\", size=15, bbox=dict(boxstyle=\"round,pad=0.3\", fc=\"blue\", ec=\"w\", lw=2))   \n",
        "for i in sls:\n",
        "  ax[0].axhline(y=i, color=\"r\")\n",
        "for i in bys:\n",
        "  ax[0].axhline(y=i, color=\"g\")\n",
        "#ax[0].hlines(sls,xmin=float(asks.min()[0][0]), xmax = float(asks.max()[0][0]), color = \"r\")\n",
        "#ax[0].hlines(bys,xmin=float(asks.min()[0][0]), xmax = float(asks.max()[0][0]), color = \"g\")\n",
        "ax[1].plot(price_df.tail(50).closeTime,rsi.tail(50))\n",
        "ax[1].axhline(y= 30, color = 'r')\n",
        "ax[1].axhline(y= 70, color = 'r')\n",
        "\n",
        "ax[2].bar(  price_df.closeTime.tail(50), price_df.volume.tail(50), width = 0.0005, color='y')\n"
      ]
    },
    {
      "cell_type": "code",
      "execution_count": null,
      "id": "bd64b234",
      "metadata": {
        "id": "bd64b234",
        "outputId": "775d3d24-cf17-48e6-beba-ba8d0fd5cd0b",
        "colab": {
          "base_uri": "https://localhost:8080/"
        }
      },
      "outputs": [
        {
          "output_type": "execute_result",
          "data": {
            "text/plain": [
              "1662839160.999"
            ]
          },
          "metadata": {},
          "execution_count": 79
        }
      ],
      "source": [
        " float (price_df.closeTime.tail(50).head(1).view(int)/10**9 ) \n",
        "\n"
      ]
    }
  ],
  "metadata": {
    "kernelspec": {
      "display_name": "Python 3 (ipykernel)",
      "language": "python",
      "name": "python3"
    },
    "language_info": {
      "codemirror_mode": {
        "name": "ipython",
        "version": 3
      },
      "file_extension": ".py",
      "mimetype": "text/x-python",
      "name": "python",
      "nbconvert_exporter": "python",
      "pygments_lexer": "ipython3",
      "version": "3.9.2"
    },
    "colab": {
      "provenance": []
    }
  },
  "nbformat": 4,
  "nbformat_minor": 5
}